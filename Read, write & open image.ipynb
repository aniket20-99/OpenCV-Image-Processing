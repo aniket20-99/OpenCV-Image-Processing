{
 "cells": [
  {
   "cell_type": "markdown",
   "id": "bf9acae1-ede2-40e4-8c6f-856d28a29895",
   "metadata": {},
   "source": [
    "# Read, write & open image in another window"
   ]
  },
  {
   "cell_type": "code",
   "execution_count": 1,
   "id": "9c3c89a5-547b-4eac-9794-2e3e47b8b9eb",
   "metadata": {},
   "outputs": [],
   "source": [
    "import cv2"
   ]
  },
  {
   "cell_type": "code",
   "execution_count": 2,
   "id": "b5fc3609-b719-4b7b-99d4-b95149f1fd20",
   "metadata": {},
   "outputs": [],
   "source": [
    "img = cv2.imread(r\"C:\\Users\\suraj\\Desktop\\horse1.jpg\")"
   ]
  },
  {
   "cell_type": "code",
   "execution_count": 5,
   "id": "07c156e4-3bc3-49b3-99b6-edf5f8e8e133",
   "metadata": {},
   "outputs": [],
   "source": [
    "wrong_img = cv2.imread(r\"C:\\Users\\suraj\\Desktop\\dog.jpg\")"
   ]
  },
  {
   "cell_type": "code",
   "execution_count": 7,
   "id": "80225658-46a8-4b16-8220-611f210292ee",
   "metadata": {},
   "outputs": [
    {
     "data": {
      "text/plain": [
       "NoneType"
      ]
     },
     "execution_count": 7,
     "metadata": {},
     "output_type": "execute_result"
    }
   ],
   "source": [
    "type(wrong_img) # cv2.imread never give error even if image is not available in the file"
   ]
  },
  {
   "cell_type": "code",
   "execution_count": 8,
   "id": "df0f6ab2-5553-41ad-87d3-6521be48f65c",
   "metadata": {},
   "outputs": [
    {
     "data": {
      "text/plain": [
       "numpy.ndarray"
      ]
     },
     "execution_count": 8,
     "metadata": {},
     "output_type": "execute_result"
    }
   ],
   "source": [
    "type(img)"
   ]
  },
  {
   "cell_type": "code",
   "execution_count": 12,
   "id": "8449836c-74b1-42d1-9bd9-f8e2118a575b",
   "metadata": {},
   "outputs": [
    {
     "data": {
      "text/plain": [
       "-1"
      ]
     },
     "execution_count": 12,
     "metadata": {},
     "output_type": "execute_result"
    }
   ],
   "source": [
    "img = cv2.imread(r\"C:\\Users\\suraj\\Desktop\\horse1.jpg\")\n",
    "cv2.imshow('nit',img) # image will generate in another window\n",
    "cv2.waitKey() # untill the user don,t  close the window it will remain pop up"
   ]
  },
  {
   "cell_type": "code",
   "execution_count": 11,
   "id": "7309a3ea-2cdf-4318-a181-02b7fb658e45",
   "metadata": {},
   "outputs": [
    {
     "data": {
      "text/plain": [
       "-1"
      ]
     },
     "execution_count": 11,
     "metadata": {},
     "output_type": "execute_result"
    }
   ],
   "source": [
    "img1 = cv2.imread(r\"C:\\Users\\suraj\\Desktop\\leaf.jpeg\")\n",
    "cv2.imshow('myimg',img1)\n",
    "cv2.waitKey()"
   ]
  },
  {
   "cell_type": "markdown",
   "id": "388545b4-75e0-4ffc-a064-fe8fc566d924",
   "metadata": {},
   "source": [
    "* Whenever image is created in another window user has to close manually and we don't want to do that "
   ]
  },
  {
   "cell_type": "code",
   "execution_count": 15,
   "id": "d0e548e4-1564-439d-bc27-96567824cac2",
   "metadata": {},
   "outputs": [],
   "source": [
    "import cv2\n",
    "img = cv2.imread(r\"C:\\Users\\suraj\\Desktop\\horse1.jpg\")\n",
    "while True:\n",
    "    cv2.imshow('my image',img)\n",
    "    if cv2.waitKey(1) & 0xFF == 27 :\n",
    "        break\n",
    "#The function destroyAllWindows destroys all of the opened HighGUI windows.\n",
    "cv2.destroyAllWindows() "
   ]
  },
  {
   "cell_type": "code",
   "execution_count": null,
   "id": "e052b7bd-f11d-426f-b69b-d324737889ee",
   "metadata": {},
   "outputs": [],
   "source": []
  },
  {
   "cell_type": "code",
   "execution_count": null,
   "id": "844dc1a6-e3c0-4528-ba19-19e5d29ca60d",
   "metadata": {},
   "outputs": [],
   "source": []
  }
 ],
 "metadata": {
  "kernelspec": {
   "display_name": "Python 3 (ipykernel)",
   "language": "python",
   "name": "python3"
  },
  "language_info": {
   "codemirror_mode": {
    "name": "ipython",
    "version": 3
   },
   "file_extension": ".py",
   "mimetype": "text/x-python",
   "name": "python",
   "nbconvert_exporter": "python",
   "pygments_lexer": "ipython3",
   "version": "3.11.5"
  }
 },
 "nbformat": 4,
 "nbformat_minor": 5
}
